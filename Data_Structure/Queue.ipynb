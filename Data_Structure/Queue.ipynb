{
 "cells": [
  {
   "cell_type": "code",
   "execution_count": 4,
   "metadata": {},
   "outputs": [],
   "source": [
    "class Queue():\n",
    "    def __init__(self):\n",
    "        self.my_queue = []  #    dequeue <- [1(head), 2, 3, 4, 5(tail)] <- enqueue\n",
    "        \n",
    "    def define_head_tail(self):\n",
    "        assert len(self.my_queue)>0\n",
    "        self.head = self.my_queue[0]\n",
    "        self.tail = self.my_queue[-1]\n",
    "\n",
    "    def enqueue(self, new_element):\n",
    "        self.my_queue.append(new_element)           \n",
    "        self.define_head_tail()\n",
    "        return self.my_queue\n",
    "    \n",
    "    def dequeue(self):\n",
    "        self.dequeue_element = self.my_queue[0]\n",
    "        self.my_queue = self.my_queue[1:]\n",
    "        \n",
    "        return self.my_queue, self.dequeue_element\n",
    "    \n",
    "    def print_all(self):\n",
    "        for i in self.my_queue:\n",
    "            print(i)"
   ]
  },
  {
   "cell_type": "code",
   "execution_count": 5,
   "metadata": {},
   "outputs": [
    {
     "name": "stdout",
     "output_type": "stream",
     "text": [
      "2\n",
      "3\n",
      "4\n",
      "5\n"
     ]
    }
   ],
   "source": [
    "# test\n",
    "my_queue = Queue()\n",
    "my_queue.enqueue(1)\n",
    "my_queue.enqueue(2)\n",
    "my_queue.enqueue(3)\n",
    "my_queue.enqueue(4)\n",
    "my_queue.enqueue(5)\n",
    "my_queue.dequeue()\n",
    "my_queue.print_all()"
   ]
  },
  {
   "cell_type": "code",
   "execution_count": 6,
   "metadata": {},
   "outputs": [
    {
     "data": {
      "text/plain": [
       "1"
      ]
     },
     "execution_count": 6,
     "metadata": {},
     "output_type": "execute_result"
    }
   ],
   "source": [
    "my_queue.dequeue_element"
   ]
  },
  {
   "cell_type": "code",
   "execution_count": 7,
   "metadata": {},
   "outputs": [
    {
     "name": "stdout",
     "output_type": "stream",
     "text": [
      "[2, 3, 4, 5]\n"
     ]
    }
   ],
   "source": [
    "print(my_queue.my_queue)"
   ]
  },
  {
   "cell_type": "code",
   "execution_count": null,
   "metadata": {},
   "outputs": [],
   "source": []
  }
 ],
 "metadata": {
  "kernelspec": {
   "display_name": "jjy",
   "language": "python",
   "name": "python3"
  },
  "language_info": {
   "codemirror_mode": {
    "name": "ipython",
    "version": 3
   },
   "file_extension": ".py",
   "mimetype": "text/x-python",
   "name": "python",
   "nbconvert_exporter": "python",
   "pygments_lexer": "ipython3",
   "version": "3.8.17"
  },
  "orig_nbformat": 4
 },
 "nbformat": 4,
 "nbformat_minor": 2
}
